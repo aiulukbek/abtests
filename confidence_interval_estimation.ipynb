{
 "cells": [
  {
   "cell_type": "code",
   "execution_count": 1,
   "metadata": {},
   "outputs": [],
   "source": [
    "import numpy as np \n",
    "from scipy import stats "
   ]
  },
  {
   "cell_type": "code",
   "execution_count": 3,
   "metadata": {},
   "outputs": [],
   "source": [
    "population = stats.norm.rvs(loc = 0, scale = 2, size = 100000)"
   ]
  },
  {
   "cell_type": "code",
   "execution_count": 4,
   "metadata": {},
   "outputs": [
    {
     "name": "stdout",
     "output_type": "stream",
     "text": [
      "population mean: 0.007474075199012619 and std: 1.9982530761739967\n"
     ]
    }
   ],
   "source": [
    "print(f\"population mean: {population.mean()} and std: {population.std()}\")"
   ]
  },
  {
   "cell_type": "code",
   "execution_count": 79,
   "metadata": {},
   "outputs": [],
   "source": [
    "population_variance = float(population.var())\n",
    "\n",
    "population_mean = float(population.mean()) \n",
    "\n",
    "sample_size = 1000\n",
    "\n",
    "sample = np.random.choice(population, size = sample_size, replace = False)\n",
    "\n",
    "confidence_level = 0.95"
   ]
  },
  {
   "cell_type": "code",
   "execution_count": null,
   "metadata": {},
   "outputs": [
    {
     "name": "stdout",
     "output_type": "stream",
     "text": [
      "z score: 1.959963984540054\n"
     ]
    }
   ],
   "source": [
    "# we are using z table since we know population variance and two tailed test\n",
    "\n",
    "z_score = stats.norm.ppf((1 + confidence_level) / 2)\n",
    "\n",
    "print(f\"z score: {z_score}\")\n",
    "\n",
    "\n"
   ]
  },
  {
   "cell_type": "markdown",
   "metadata": {},
   "source": [
    "z score: number of standard deviation from the mean to obtain 95% of probability mass "
   ]
  },
  {
   "cell_type": "code",
   "execution_count": 18,
   "metadata": {},
   "outputs": [
    {
     "name": "stdout",
     "output_type": "stream",
     "text": [
      "sampling variance : 0.00399301535643884\n",
      "standard error: 0.12385073298999516\n",
      "confidence interval: (-0.17653573053806398, 0.07116573544192632)\n"
     ]
    }
   ],
   "source": [
    "# we need to calculate sampling variance \n",
    "\n",
    "sampling_variance = population_variance / sample_size  \n",
    "\n",
    "print(f\"sampling variance : {sampling_variance}\")\n",
    "\n",
    "# standard error \n",
    "\n",
    "standard_error = z_score * np.sqrt(sampling_variance) \n",
    "\n",
    "print(f\"standard error: {standard_error}\")\n",
    "\n",
    "# confidence interval\n",
    "\n",
    "lower_bound = float(sample.mean() - standard_error)\n",
    "upper_bound = float(sample.mean() + standard_error)\n",
    "\n",
    "print(f\"confidence interval: {(lower_bound, upper_bound)}\")"
   ]
  },
  {
   "cell_type": "code",
   "execution_count": 27,
   "metadata": {},
   "outputs": [],
   "source": [
    "def confidence_interval(sample_mean, sample_size, population_variance, confidence_level): \n",
    "    critical_value = stats.norm.ppf((1 + confidence_level) / 2) \n",
    "    sampling_variance = population_variance / sample_size \n",
    "    standard_error = critical_value * np.sqrt(sampling_variance)\n",
    "    lower_bound = float(sample_mean - standard_error)\n",
    "    upper_bound = float(sample_mean + standard_error )\n",
    "    return lower_bound, upper_bound \n"
   ]
  },
  {
   "cell_type": "code",
   "execution_count": 75,
   "metadata": {},
   "outputs": [],
   "source": [
    "# let us validate the meaning of confidence level \n",
    "\n",
    "bounds = []\n",
    "\n",
    "sample_means = [] \n",
    "\n",
    "for _ in range(10): \n",
    "    sample = np.random.choice(population, size = sample_size, replace = False) \n",
    "    sample_mean = float(sample.mean())  \n",
    "    sample_means.append(sample_mean)\n",
    "    lower, upper = confidence_interval(sample_mean, sample_size, population_variance, confidence_level)\n",
    "    bounds.append((lower, upper))"
   ]
  },
  {
   "cell_type": "code",
   "execution_count": null,
   "metadata": {},
   "outputs": [
    {
     "data": {
      "text/plain": [
       "np.float64(90.0)"
      ]
     },
     "execution_count": 76,
     "metadata": {},
     "output_type": "execute_result"
    }
   ],
   "source": [
    "\n",
    "np.sum([(lower <= population_mean and upper >= population_mean) for lower, upper in bounds]) / len(bounds)  * 100 "
   ]
  },
  {
   "cell_type": "code",
   "execution_count": 77,
   "metadata": {},
   "outputs": [
    {
     "data": {
      "text/plain": [
       "Text(0, 0.5, 'Confidence interval')"
      ]
     },
     "execution_count": 77,
     "metadata": {},
     "output_type": "execute_result"
    },
    {
     "data": {
      "image/png": "[encoded data removed]",
      "text/plain": [
       "<Figure size 1000x800 with 1 Axes>"
      ]
     },
     "metadata": {},
     "output_type": "display_data"
    }
   ],
   "source": [
    "plt.figure(figsize = (10, 8))\n",
    "for idx, bound in enumerate(bounds): \n",
    "    plt.vlines(x = idx, ymin = bound[0], ymax=bound[1], color = \"red\", linewidth = 2.0)\n",
    "\n",
    "plt.axhline(y = population_mean, color = \"blue\", linestyle = \"--\", linewidth = 3.0)\n",
    "\n",
    "plt.title(\"Confidence interval for sample means\", fontdict = {'fontsize' : 18, 'fontweight' : 'bold'}) \n",
    "\n",
    "plt.xlabel(\"Sample number\", fontdict={'fontsize' : 16, 'fontweight' : 'bold'}) \n",
    "\n",
    "plt.ylabel(\"Confidence interval\", fontdict= {'fontsize' : 16, 'fontweight' : 'bold'})"
   ]
  }
 ],
 "metadata": {
  "kernelspec": {
   "display_name": "abtests",
   "language": "python",
   "name": "python3"
  },
  "language_info": {
   "codemirror_mode": {
    "name": "ipython",
    "version": 3
   },
   "file_extension": ".py",
   "mimetype": "text/x-python",
   "name": "python",
   "nbconvert_exporter": "python",
   "pygments_lexer": "ipython3",
   "version": "3.12.9"
  }
 },
 "nbformat": 4,
 "nbformat_minor": 2
}
