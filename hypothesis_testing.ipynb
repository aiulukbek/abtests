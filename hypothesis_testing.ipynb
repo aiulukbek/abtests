{
 "cells": [
  {
   "cell_type": "code",
   "execution_count": 1,
   "metadata": {},
   "outputs": [],
   "source": [
    "import pandas as pd \n",
    "import numpy as np \n",
    "import seaborn as sns \n",
    "from scipy import stats \n",
    "import matplotlib.pyplot as plt \n",
    "%matplotlib inline "
   ]
  },
  {
   "cell_type": "markdown",
   "metadata": {},
   "source": [
    "Null and Alternative Hypotheses in Statistical Testing\n",
    "\n",
    "In statistical hypothesis testing, we formulate two competing statements about a population to evaluate using sample data: the null hypothesis and the alternative hypothesis.\n",
    "\n",
    "Null Hypothesis (H \n",
    "0\n",
    "​\n",
    " )\n",
    "\n",
    "The null hypothesis is a statement about the population that the researcher aims to disprove using sample data, seeking to obtain sufficient statistical evidence to reject it. It posits that there is no statistically significant relationship or difference between the tested variables in the population. The goal of hypothesis testing is to evaluate the evidence in the sample data to determine whether to reject the null hypothesis; we do not seek to validate its correctness. If the sample data do not provide sufficient statistical evidence to reject the null hypothesis, we fail to reject the null hypothesis.\n",
    "\n",
    "Alternative Hypothesis (H \n",
    "1\n",
    "​\n",
    "  or H \n",
    "a\n",
    "​\n",
    " )\n",
    "\n",
    "The alternative hypothesis asserts that there is a statistically significant relationship or difference between the tested variables in the population. Rejection of the null hypothesis suggests that the sample data provide evidence for the presence of the specific effect proposed by the alternative hypothesis. Statistically significant findings that lead to the rejection of the null hypothesis lend support to the alternative hypothesis, indicating evidence of a relationship or difference between the tested variables."
   ]
  },
  {
   "cell_type": "markdown",
   "metadata": {},
   "source": []
  },
  {
   "cell_type": "code",
   "execution_count": null,
   "metadata": {},
   "outputs": [],
   "source": []
  }
 ],
 "metadata": {
  "kernelspec": {
   "display_name": "abtests",
   "language": "python",
   "name": "python3"
  },
  "language_info": {
   "codemirror_mode": {
    "name": "ipython",
    "version": 3
   },
   "file_extension": ".py",
   "mimetype": "text/x-python",
   "name": "python",
   "nbconvert_exporter": "python",
   "pygments_lexer": "ipython3",
   "version": "3.12.9"
  }
 },
 "nbformat": 4,
 "nbformat_minor": 2
}
